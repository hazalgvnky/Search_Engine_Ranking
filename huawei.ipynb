{
 "cells": [
  {
   "cell_type": "code",
   "execution_count": 2,
   "metadata": {},
   "outputs": [],
   "source": [
    "import pandas as pd"
   ]
  },
  {
   "cell_type": "code",
   "execution_count": 146,
   "metadata": {},
   "outputs": [
    {
     "data": {
      "text/html": [
       "<div>\n",
       "<style scoped>\n",
       "    .dataframe tbody tr th:only-of-type {\n",
       "        vertical-align: middle;\n",
       "    }\n",
       "\n",
       "    .dataframe tbody tr th {\n",
       "        vertical-align: top;\n",
       "    }\n",
       "\n",
       "    .dataframe thead th {\n",
       "        text-align: right;\n",
       "    }\n",
       "</style>\n",
       "<table border=\"1\" class=\"dataframe\">\n",
       "  <thead>\n",
       "    <tr style=\"text-align: right;\">\n",
       "      <th></th>\n",
       "      <th>queryid</th>\n",
       "      <th>documentid</th>\n",
       "      <th>predict_label</th>\n",
       "    </tr>\n",
       "  </thead>\n",
       "  <tbody>\n",
       "    <tr>\n",
       "      <th>0</th>\n",
       "      <td>162</td>\n",
       "      <td>160984</td>\n",
       "      <td>0</td>\n",
       "    </tr>\n",
       "    <tr>\n",
       "      <th>1</th>\n",
       "      <td>385</td>\n",
       "      <td>617388</td>\n",
       "      <td>0</td>\n",
       "    </tr>\n",
       "    <tr>\n",
       "      <th>2</th>\n",
       "      <td>613</td>\n",
       "      <td>4205</td>\n",
       "      <td>0</td>\n",
       "    </tr>\n",
       "    <tr>\n",
       "      <th>3</th>\n",
       "      <td>836</td>\n",
       "      <td>189903</td>\n",
       "      <td>3</td>\n",
       "    </tr>\n",
       "    <tr>\n",
       "      <th>4</th>\n",
       "      <td>1058</td>\n",
       "      <td>424127</td>\n",
       "      <td>3</td>\n",
       "    </tr>\n",
       "    <tr>\n",
       "      <th>...</th>\n",
       "      <td>...</td>\n",
       "      <td>...</td>\n",
       "      <td>...</td>\n",
       "    </tr>\n",
       "    <tr>\n",
       "      <th>849072</th>\n",
       "      <td>25559</td>\n",
       "      <td>236693</td>\n",
       "      <td>0</td>\n",
       "    </tr>\n",
       "    <tr>\n",
       "      <th>849073</th>\n",
       "      <td>25784</td>\n",
       "      <td>754969</td>\n",
       "      <td>0</td>\n",
       "    </tr>\n",
       "    <tr>\n",
       "      <th>849074</th>\n",
       "      <td>26001</td>\n",
       "      <td>482248</td>\n",
       "      <td>3</td>\n",
       "    </tr>\n",
       "    <tr>\n",
       "      <th>849075</th>\n",
       "      <td>26220</td>\n",
       "      <td>469879</td>\n",
       "      <td>0</td>\n",
       "    </tr>\n",
       "    <tr>\n",
       "      <th>849076</th>\n",
       "      <td>26444</td>\n",
       "      <td>734090</td>\n",
       "      <td>3</td>\n",
       "    </tr>\n",
       "  </tbody>\n",
       "</table>\n",
       "<p>849077 rows × 3 columns</p>\n",
       "</div>"
      ],
      "text/plain": [
       "        queryid  documentid  predict_label\n",
       "0           162      160984              0\n",
       "1           385      617388              0\n",
       "2           613        4205              0\n",
       "3           836      189903              3\n",
       "4          1058      424127              3\n",
       "...         ...         ...            ...\n",
       "849072    25559      236693              0\n",
       "849073    25784      754969              0\n",
       "849074    26001      482248              3\n",
       "849075    26220      469879              0\n",
       "849076    26444      734090              3\n",
       "\n",
       "[849077 rows x 3 columns]"
      ]
     },
     "execution_count": 146,
     "metadata": {},
     "output_type": "execute_result"
    }
   ],
   "source": [
    "mm = pd.read_csv('/Users/macbookretina/Desktop/submission.csv')\n",
    "mm"
   ]
  },
  {
   "cell_type": "code",
   "execution_count": 4,
   "metadata": {},
   "outputs": [],
   "source": [
    "import pandas as pd\n",
    "import numpy as np\n",
    "import tensorflow as tf\n",
    "from tensorflow.keras.models import Sequential\n",
    "from tensorflow.keras.layers import Activation, Dense\n",
    "from tensorflow.keras.optimizers import Adam\n",
    "from tensorflow.keras.metrics import categorical_crossentropy\n",
    "from sklearn import preprocessing \n",
    "from tensorflow import metrics"
   ]
  },
  {
   "cell_type": "code",
   "execution_count": 134,
   "metadata": {},
   "outputs": [
    {
     "name": "stdout",
     "output_type": "stream",
     "text": [
      "Model: \"sequential_12\"\n",
      "_________________________________________________________________\n",
      "Layer (type)                 Output Shape              Param #   \n",
      "=================================================================\n",
      "dense_60 (Dense)             (None, 8)                 376       \n",
      "_________________________________________________________________\n",
      "dense_61 (Dense)             (None, 16)                144       \n",
      "_________________________________________________________________\n",
      "dense_62 (Dense)             (None, 32)                544       \n",
      "_________________________________________________________________\n",
      "dense_63 (Dense)             (None, 16)                528       \n",
      "_________________________________________________________________\n",
      "dense_64 (Dense)             (None, 5)                 85        \n",
      "=================================================================\n",
      "Total params: 1,677\n",
      "Trainable params: 1,677\n",
      "Non-trainable params: 0\n",
      "_________________________________________________________________\n"
     ]
    }
   ],
   "source": [
    "model = Sequential([\n",
    "        Dense(units=8,input_shape=(46,), activation='relu'),\n",
    "        Dense(units=16,activation='relu'),\n",
    "        Dense(units=32,activation='relu'),\n",
    "        Dense(units=16,activation='relu'),\n",
    "        Dense(units=5,activation='softmax')\n",
    "    ]\n",
    "    )\n",
    "\n",
    "model.summary()"
   ]
  },
  {
   "cell_type": "code",
   "execution_count": 135,
   "metadata": {},
   "outputs": [],
   "source": [
    "#'categorical_crossentropy'\n",
    "model.compile(loss='categorical_hinge', optimizer= 'Adam',metrics=['categorical_accuracy'])"
   ]
  },
  {
   "cell_type": "code",
   "execution_count": 128,
   "metadata": {},
   "outputs": [],
   "source": [
    "#,6,39,40,41,42,43,44,45,46,47,48,49,50,51,52,53,54,55,56,58,60,61,79,80,81,82,83,84,85,86,87,88,89,90,91,92,93,94,95,96,97,98,99,100,101,102,103,104,105,106,107,108,109,110,111,112,113,114,115,116,117,118,119,120,121,122,123,124,125,126,127,128,129,130,131,132,133,134,135,136,137,138,139,140,141,142,143,144,145,146,147,148,149,150,151,152,153,154,155,156,157,158,159,160,161,162,163,164,165,166,167,168,169,170,171,172,173,174,175,176,177,178,179,180,181,182,183,184,185,186,187,188,189,190,191,192,193,194,195,196,197,198,199,200\n",
    "#200,221,222,223,224,225,226,227,228,229,230,231,232,233,234,235,236,237,238,239,240,241,242,243,244,245,246,247,248,249,250,251,252,253,254,255,256,257,258,259,260,261,262,263,264,265,266,267,268,269,270,271,272,273,274,275,276,277,278,279,280,281,282,283,284,285,286,287,288,289,290,291,292,293,294,295,296,297,298,299,300,301,302,303,304,305,306,307,308,309,310,311,312,313,314,315,316,317,318,319,320,321,322,323,324,325,326,327,328,329,330,331,332,333,334,335,336,337,338,339,340,341,342,343,344,345,346,347,348,349,350,351,352,353,354,355,356,357,358,359,360,361,362,363]\n",
    "df = pd.read_csv(\n",
    "            '/Users/macbookretina/Desktop/train_dataset.csv',header=None,sep='\\t',\n",
    "            usecols=[0,8,11,12,13,14,15,16,17,18,19,20,21,22,23,24,25,26,27,28,29,30,31,32,33,34,35,36,38,47,62,63,64,65,66,67,69,70,71,72,73,74,75,76,77,201,202])"
   ]
  },
  {
   "cell_type": "code",
   "execution_count": 131,
   "metadata": {},
   "outputs": [],
   "source": [
    "labels = df.iloc[:,[0]]\n",
    "labels = np.array(labels) \n",
    "    \n",
    "        \n",
    "features = df.iloc[:, 1:]\n",
    "features = np.array(features)"
   ]
  },
  {
   "cell_type": "code",
   "execution_count": 132,
   "metadata": {},
   "outputs": [],
   "source": [
    "scalar = preprocessing.MinMaxScaler()\n",
    "scaled_feats = scalar.fit_transform(features)\n",
    "    \n",
    "features = None"
   ]
  },
  {
   "cell_type": "code",
   "execution_count": 147,
   "metadata": {},
   "outputs": [
    {
     "name": "stdout",
     "output_type": "stream",
     "text": [
      "Epoch 1/10\n",
      "168815/168815 - 296s - loss: 0.3147 - categorical_accuracy: 0.2001 - val_loss: 0.3139 - val_categorical_accuracy: 0.0000e+00\n",
      "Epoch 2/10\n",
      "168815/168815 - 221s - loss: 0.3147 - categorical_accuracy: 0.2001 - val_loss: 0.3139 - val_categorical_accuracy: 0.0000e+00\n",
      "Epoch 3/10\n",
      "168815/168815 - 196s - loss: 0.3147 - categorical_accuracy: 0.2002 - val_loss: 0.3139 - val_categorical_accuracy: 1.0000\n",
      "Epoch 4/10\n",
      "168815/168815 - 197s - loss: 0.3147 - categorical_accuracy: 0.1995 - val_loss: 0.3139 - val_categorical_accuracy: 0.0000e+00\n",
      "Epoch 5/10\n",
      "168815/168815 - 200s - loss: 0.3147 - categorical_accuracy: 0.2001 - val_loss: 0.3139 - val_categorical_accuracy: 0.0000e+00\n",
      "Epoch 6/10\n",
      "168815/168815 - 324s - loss: 0.3147 - categorical_accuracy: 0.1999 - val_loss: 0.3139 - val_categorical_accuracy: 0.0000e+00\n",
      "Epoch 7/10\n",
      "168815/168815 - 281s - loss: 0.3147 - categorical_accuracy: 0.1996 - val_loss: 0.3139 - val_categorical_accuracy: 0.0000e+00\n",
      "Epoch 8/10\n",
      "168815/168815 - 271s - loss: 0.3147 - categorical_accuracy: 0.1998 - val_loss: 0.3139 - val_categorical_accuracy: 0.0000e+00\n",
      "Epoch 9/10\n",
      "168815/168815 - 255s - loss: 0.3147 - categorical_accuracy: 0.2000 - val_loss: 0.3139 - val_categorical_accuracy: 0.0000e+00\n",
      "Epoch 10/10\n",
      "168815/168815 - 253s - loss: 0.3147 - categorical_accuracy: 0.2002 - val_loss: 0.3139 - val_categorical_accuracy: 0.0000e+00\n"
     ]
    },
    {
     "data": {
      "text/plain": [
       "<tensorflow.python.keras.callbacks.History at 0x11b693820>"
      ]
     },
     "execution_count": 147,
     "metadata": {},
     "output_type": "execute_result"
    }
   ],
   "source": [
    "model.fit(scaled_feats,labels,shuffle=True,validation_split=0.15,batch_size=32,epochs=10,verbose=2)"
   ]
  },
  {
   "cell_type": "code",
   "execution_count": 148,
   "metadata": {},
   "outputs": [],
   "source": [
    "test_df = pd.read_csv(\n",
    "            '/Users/macbookretina/Desktop/test_dataset_B.csv',header=None,sep='\\t',\n",
    "            usecols=[7,10,11,12,13,14,15,16,17,18,19,20,21,22,23,24,25,26,27,28,29,30,31,32,33,34,35,37,46,61,62,63,64,65,66,67,69,70,71,72,73,74,75,76,200,201]\n",
    ")"
   ]
  },
  {
   "cell_type": "code",
   "execution_count": 149,
   "metadata": {},
   "outputs": [],
   "source": [
    "test_df = np.array(test_df)"
   ]
  },
  {
   "cell_type": "code",
   "execution_count": 150,
   "metadata": {},
   "outputs": [],
   "source": [
    "#scalar = preprocessing.MinMaxScaler()\n",
    "#scaled_test_df = scalar.fit_transform(test_df)"
   ]
  },
  {
   "cell_type": "code",
   "execution_count": 151,
   "metadata": {},
   "outputs": [],
   "source": [
    "predicted = model.predict(test_df)"
   ]
  },
  {
   "cell_type": "code",
   "execution_count": 152,
   "metadata": {},
   "outputs": [],
   "source": [
    "rounded_predictions = np.argmax(predicted,axis=-1)"
   ]
  },
  {
   "cell_type": "code",
   "execution_count": 153,
   "metadata": {},
   "outputs": [],
   "source": [
    "mm['predict_label']=rounded_predictions"
   ]
  },
  {
   "cell_type": "code",
   "execution_count": 159,
   "metadata": {},
   "outputs": [
    {
     "data": {
      "text/html": [
       "<div>\n",
       "<style scoped>\n",
       "    .dataframe tbody tr th:only-of-type {\n",
       "        vertical-align: middle;\n",
       "    }\n",
       "\n",
       "    .dataframe tbody tr th {\n",
       "        vertical-align: top;\n",
       "    }\n",
       "\n",
       "    .dataframe thead th {\n",
       "        text-align: right;\n",
       "    }\n",
       "</style>\n",
       "<table border=\"1\" class=\"dataframe\">\n",
       "  <thead>\n",
       "    <tr style=\"text-align: right;\">\n",
       "      <th></th>\n",
       "      <th>queryid</th>\n",
       "      <th>documentid</th>\n",
       "      <th>predict_label</th>\n",
       "    </tr>\n",
       "  </thead>\n",
       "  <tbody>\n",
       "    <tr>\n",
       "      <th>0</th>\n",
       "      <td>162</td>\n",
       "      <td>160984</td>\n",
       "      <td>1</td>\n",
       "    </tr>\n",
       "    <tr>\n",
       "      <th>1</th>\n",
       "      <td>385</td>\n",
       "      <td>617388</td>\n",
       "      <td>1</td>\n",
       "    </tr>\n",
       "    <tr>\n",
       "      <th>2</th>\n",
       "      <td>613</td>\n",
       "      <td>4205</td>\n",
       "      <td>1</td>\n",
       "    </tr>\n",
       "    <tr>\n",
       "      <th>3</th>\n",
       "      <td>836</td>\n",
       "      <td>189903</td>\n",
       "      <td>1</td>\n",
       "    </tr>\n",
       "    <tr>\n",
       "      <th>4</th>\n",
       "      <td>1058</td>\n",
       "      <td>424127</td>\n",
       "      <td>1</td>\n",
       "    </tr>\n",
       "    <tr>\n",
       "      <th>...</th>\n",
       "      <td>...</td>\n",
       "      <td>...</td>\n",
       "      <td>...</td>\n",
       "    </tr>\n",
       "    <tr>\n",
       "      <th>849072</th>\n",
       "      <td>25559</td>\n",
       "      <td>236693</td>\n",
       "      <td>1</td>\n",
       "    </tr>\n",
       "    <tr>\n",
       "      <th>849073</th>\n",
       "      <td>25784</td>\n",
       "      <td>754969</td>\n",
       "      <td>1</td>\n",
       "    </tr>\n",
       "    <tr>\n",
       "      <th>849074</th>\n",
       "      <td>26001</td>\n",
       "      <td>482248</td>\n",
       "      <td>1</td>\n",
       "    </tr>\n",
       "    <tr>\n",
       "      <th>849075</th>\n",
       "      <td>26220</td>\n",
       "      <td>469879</td>\n",
       "      <td>1</td>\n",
       "    </tr>\n",
       "    <tr>\n",
       "      <th>849076</th>\n",
       "      <td>26444</td>\n",
       "      <td>734090</td>\n",
       "      <td>2</td>\n",
       "    </tr>\n",
       "  </tbody>\n",
       "</table>\n",
       "<p>849077 rows × 3 columns</p>\n",
       "</div>"
      ],
      "text/plain": [
       "        queryid  documentid  predict_label\n",
       "0           162      160984              1\n",
       "1           385      617388              1\n",
       "2           613        4205              1\n",
       "3           836      189903              1\n",
       "4          1058      424127              1\n",
       "...         ...         ...            ...\n",
       "849072    25559      236693              1\n",
       "849073    25784      754969              1\n",
       "849074    26001      482248              1\n",
       "849075    26220      469879              1\n",
       "849076    26444      734090              2\n",
       "\n",
       "[849077 rows x 3 columns]"
      ]
     },
     "execution_count": 159,
     "metadata": {},
     "output_type": "execute_result"
    }
   ],
   "source": [
    "mm"
   ]
  },
  {
   "cell_type": "code",
   "execution_count": 160,
   "metadata": {},
   "outputs": [],
   "source": [
    "path =\"/Users/macbookretina/Desktop/submission.csv\"\n",
    "mm.to_csv(path,index = False)"
   ]
  }
 ],
 "metadata": {
  "kernelspec": {
   "display_name": "Python 3",
   "language": "python",
   "name": "python3"
  },
  "language_info": {
   "codemirror_mode": {
    "name": "ipython",
    "version": 3
   },
   "file_extension": ".py",
   "mimetype": "text/x-python",
   "name": "python",
   "nbconvert_exporter": "python",
   "pygments_lexer": "ipython3",
   "version": "3.8.3"
  }
 },
 "nbformat": 4,
 "nbformat_minor": 4
}
